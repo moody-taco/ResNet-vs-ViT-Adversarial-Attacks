{
 "cells": [
  {
   "cell_type": "code",
   "execution_count": 14,
   "id": "3d38fdbd",
   "metadata": {},
   "outputs": [
    {
     "name": "stdout",
     "output_type": "stream",
     "text": [
      "Using device: cuda\n"
     ]
    }
   ],
   "source": [
    "# ===============================\n",
    "# 1. Install and Imports\n",
    "# ===============================\n",
    "# !pip install torchvision timm torch tqdm\n",
    "\n",
    "import torch\n",
    "import torch.nn as nn\n",
    "import torch.nn.functional as F\n",
    "import torchvision\n",
    "import torchvision.transforms as T\n",
    "import timm\n",
    "import matplotlib.pyplot as plt\n",
    "from torch.utils.data import DataLoader\n",
    "from tqdm import tqdm\n",
    "\n",
    "device = 'cuda' if torch.cuda.is_available() else 'cpu'\n",
    "print(f\"Using device: {device}\")"
   ]
  },
  {
   "cell_type": "code",
   "execution_count": 24,
   "id": "a3003562",
   "metadata": {},
   "outputs": [],
   "source": [
    "# ===============================\n",
    "# 2. CIFAR-10 Dataset (Dual Transforms)\n",
    "# ===============================\n",
    "\n",
    "# ResNet expects 32×32\n",
    "train_transform_resnet = T.Compose([\n",
    "    T.RandomCrop(32, padding=4),\n",
    "    T.RandomHorizontalFlip(),\n",
    "    T.ToTensor()\n",
    "])\n",
    "\n",
    "test_transform_resnet = T.Compose([\n",
    "    T.ToTensor()\n",
    "])\n",
    "\n",
    "# ViT expects 224×224\n",
    "train_transform_vit = T.Compose([\n",
    "    T.Resize(224),\n",
    "    T.RandomCrop(224, padding=4),\n",
    "    T.RandomHorizontalFlip(),\n",
    "    T.ToTensor()\n",
    "])\n",
    "\n",
    "test_transform_vit = T.Compose([\n",
    "    T.Resize(224),\n",
    "    T.ToTensor()\n",
    "])\n",
    "\n",
    "# Load datasets separately\n",
    "trainset_resnet = torchvision.datasets.CIFAR10(root='./data', train=True, download=True, transform=train_transform_resnet)\n",
    "testset_resnet = torchvision.datasets.CIFAR10(root='./data', train=False, download=True, transform=test_transform_resnet)\n",
    "trainloader_resnet = DataLoader(trainset_resnet, batch_size=64, shuffle=True, num_workers=2)\n",
    "testloader_resnet = DataLoader(testset_resnet, batch_size=64, shuffle=False, num_workers=2)\n",
    "\n",
    "trainset_vit = torchvision.datasets.CIFAR10(root='./data', train=True, download=True, transform=train_transform_vit)\n",
    "testset_vit = torchvision.datasets.CIFAR10(root='./data', train=False, download=True, transform=test_transform_vit)\n",
    "trainloader_vit = DataLoader(trainset_vit, batch_size=64, shuffle=True, num_workers=2)\n",
    "testloader_vit = DataLoader(testset_vit, batch_size=64, shuffle=False, num_workers=2)\n"
   ]
  },
  {
   "cell_type": "code",
   "execution_count": 16,
   "id": "14165d0d",
   "metadata": {},
   "outputs": [],
   "source": [
    "# ===============================\n",
    "# 3. Load Models: ResNet18 and ViT-tiny\n",
    "# ===============================\n",
    "\n",
    "# ResNet18 from scratch (no pretrained weights)\n",
    "resnet = torchvision.models.resnet18(weights=None, num_classes=10).to(device)\n",
    "\n",
    "# ViT-tiny (DeiT-tiny, pretrained on ImageNet)\n",
    "vit = timm.create_model('deit_tiny_patch16_224', pretrained=True, num_classes=10).to(device)"
   ]
  },
  {
   "cell_type": "code",
   "execution_count": 17,
   "id": "1d9a9be5",
   "metadata": {},
   "outputs": [],
   "source": [
    "# ===============================\n",
    "# 4. Training Function\n",
    "# ===============================\n",
    "\n",
    "def train_model(model, trainloader, testloader, epochs=10):\n",
    "    optimizer = torch.optim.Adam(model.parameters(), lr=0.001)\n",
    "    criterion = nn.CrossEntropyLoss()\n",
    "    train_losses = []\n",
    "    test_accuracies = []\n",
    "\n",
    "    for epoch in range(epochs):\n",
    "        model.train()\n",
    "        running_loss = 0.0\n",
    "        for inputs, labels in tqdm(trainloader, leave=False):\n",
    "            inputs, labels = inputs.to(device), labels.to(device)\n",
    "            optimizer.zero_grad()\n",
    "            outputs = model(inputs)\n",
    "            loss = criterion(outputs, labels)\n",
    "            loss.backward()\n",
    "            optimizer.step()\n",
    "            running_loss += loss.item()\n",
    "        avg_loss = running_loss / len(trainloader)\n",
    "        train_losses.append(avg_loss)\n",
    "\n",
    "        # evaluation\n",
    "        model.eval()\n",
    "        correct = total = 0\n",
    "        with torch.no_grad():\n",
    "            for inputs, labels in testloader:\n",
    "                inputs, labels = inputs.to(device), labels.to(device)\n",
    "                outputs = model(inputs)\n",
    "                preds = outputs.argmax(dim=1)\n",
    "                correct += (preds == labels).sum().item()\n",
    "                total += labels.size(0)\n",
    "        acc = 100 * correct / total\n",
    "        test_accuracies.append(acc)\n",
    "        print(f\"Epoch {epoch+1}/{epochs} | Train Loss: {avg_loss:.4f} | Test Acc: {acc:.2f}%\")\n",
    "\n",
    "    return train_losses, test_accuracies\n"
   ]
  },
  {
   "cell_type": "code",
   "execution_count": 18,
   "id": "22d49712",
   "metadata": {},
   "outputs": [
    {
     "name": "stdout",
     "output_type": "stream",
     "text": [
      "\n",
      "Training ResNet18...\n"
     ]
    },
    {
     "name": "stderr",
     "output_type": "stream",
     "text": [
      "                                                 \r"
     ]
    },
    {
     "name": "stdout",
     "output_type": "stream",
     "text": [
      "Epoch 1/10 | Train Loss: 1.5582 | Test Acc: 54.79%\n"
     ]
    },
    {
     "name": "stderr",
     "output_type": "stream",
     "text": [
      "                                                 \r"
     ]
    },
    {
     "name": "stdout",
     "output_type": "stream",
     "text": [
      "Epoch 2/10 | Train Loss: 1.1941 | Test Acc: 47.80%\n"
     ]
    },
    {
     "name": "stderr",
     "output_type": "stream",
     "text": [
      "                                                 \r"
     ]
    },
    {
     "name": "stdout",
     "output_type": "stream",
     "text": [
      "Epoch 3/10 | Train Loss: 1.0347 | Test Acc: 59.64%\n"
     ]
    },
    {
     "name": "stderr",
     "output_type": "stream",
     "text": [
      "                                                 \r"
     ]
    },
    {
     "name": "stdout",
     "output_type": "stream",
     "text": [
      "Epoch 4/10 | Train Loss: 0.9313 | Test Acc: 69.94%\n"
     ]
    },
    {
     "name": "stderr",
     "output_type": "stream",
     "text": [
      "                                                 \r"
     ]
    },
    {
     "name": "stdout",
     "output_type": "stream",
     "text": [
      "Epoch 5/10 | Train Loss: 0.8551 | Test Acc: 66.54%\n"
     ]
    },
    {
     "name": "stderr",
     "output_type": "stream",
     "text": [
      "                                                 \r"
     ]
    },
    {
     "name": "stdout",
     "output_type": "stream",
     "text": [
      "Epoch 6/10 | Train Loss: 0.7936 | Test Acc: 70.83%\n"
     ]
    },
    {
     "name": "stderr",
     "output_type": "stream",
     "text": [
      "                                                 \r"
     ]
    },
    {
     "name": "stdout",
     "output_type": "stream",
     "text": [
      "Epoch 7/10 | Train Loss: 0.7485 | Test Acc: 68.54%\n"
     ]
    },
    {
     "name": "stderr",
     "output_type": "stream",
     "text": [
      "                                                 \r"
     ]
    },
    {
     "name": "stdout",
     "output_type": "stream",
     "text": [
      "Epoch 8/10 | Train Loss: 0.7041 | Test Acc: 73.78%\n"
     ]
    },
    {
     "name": "stderr",
     "output_type": "stream",
     "text": [
      "                                                 \r"
     ]
    },
    {
     "name": "stdout",
     "output_type": "stream",
     "text": [
      "Epoch 9/10 | Train Loss: 0.6737 | Test Acc: 71.31%\n"
     ]
    },
    {
     "name": "stderr",
     "output_type": "stream",
     "text": [
      "                                                 \r"
     ]
    },
    {
     "name": "stdout",
     "output_type": "stream",
     "text": [
      "Epoch 10/10 | Train Loss: 0.6467 | Test Acc: 73.39%\n",
      "\n",
      "Training ViT-tiny...\n"
     ]
    },
    {
     "name": "stderr",
     "output_type": "stream",
     "text": [
      "                                                 \r"
     ]
    },
    {
     "name": "stdout",
     "output_type": "stream",
     "text": [
      "Epoch 1/10 | Train Loss: 1.7196 | Test Acc: 50.10%\n"
     ]
    },
    {
     "name": "stderr",
     "output_type": "stream",
     "text": [
      "                                                 \r"
     ]
    },
    {
     "name": "stdout",
     "output_type": "stream",
     "text": [
      "Epoch 2/10 | Train Loss: 1.1943 | Test Acc: 60.51%\n"
     ]
    },
    {
     "name": "stderr",
     "output_type": "stream",
     "text": [
      "                                                 \r"
     ]
    },
    {
     "name": "stdout",
     "output_type": "stream",
     "text": [
      "Epoch 3/10 | Train Loss: 1.0019 | Test Acc: 67.11%\n"
     ]
    },
    {
     "name": "stderr",
     "output_type": "stream",
     "text": [
      "                                                 \r"
     ]
    },
    {
     "name": "stdout",
     "output_type": "stream",
     "text": [
      "Epoch 4/10 | Train Loss: 0.8740 | Test Acc: 69.32%\n"
     ]
    },
    {
     "name": "stderr",
     "output_type": "stream",
     "text": [
      "                                                 \r"
     ]
    },
    {
     "name": "stdout",
     "output_type": "stream",
     "text": [
      "Epoch 5/10 | Train Loss: 0.7793 | Test Acc: 72.61%\n"
     ]
    },
    {
     "name": "stderr",
     "output_type": "stream",
     "text": [
      "                                                 \r"
     ]
    },
    {
     "name": "stdout",
     "output_type": "stream",
     "text": [
      "Epoch 6/10 | Train Loss: 0.7086 | Test Acc: 74.34%\n"
     ]
    },
    {
     "name": "stderr",
     "output_type": "stream",
     "text": [
      "                                                 \r"
     ]
    },
    {
     "name": "stdout",
     "output_type": "stream",
     "text": [
      "Epoch 7/10 | Train Loss: 0.6456 | Test Acc: 75.44%\n"
     ]
    },
    {
     "name": "stderr",
     "output_type": "stream",
     "text": [
      "                                                 \r"
     ]
    },
    {
     "name": "stdout",
     "output_type": "stream",
     "text": [
      "Epoch 8/10 | Train Loss: 0.5921 | Test Acc: 76.36%\n"
     ]
    },
    {
     "name": "stderr",
     "output_type": "stream",
     "text": [
      "                                                 \r"
     ]
    },
    {
     "name": "stdout",
     "output_type": "stream",
     "text": [
      "Epoch 9/10 | Train Loss: 0.5482 | Test Acc: 77.46%\n"
     ]
    },
    {
     "name": "stderr",
     "output_type": "stream",
     "text": [
      "                                                 \r"
     ]
    },
    {
     "name": "stdout",
     "output_type": "stream",
     "text": [
      "Epoch 10/10 | Train Loss: 0.5048 | Test Acc: 77.88%\n"
     ]
    }
   ],
   "source": [
    "# ===============================\n",
    "# 5. Train Both Models\n",
    "# ===============================\n",
    "\n",
    "print(\"\\nTraining ResNet18...\")\n",
    "resnet_losses, resnet_accs = train_model(resnet, trainloader_resnet, testloader_resnet, epochs=10)\n",
    "\n",
    "print(\"\\nTraining ViT-tiny...\")\n",
    "vit_losses, vit_accs = train_model(vit, trainloader_vit, testloader_vit, epochs=10)"
   ]
  },
  {
   "cell_type": "code",
   "execution_count": null,
   "id": "7473adb0",
   "metadata": {},
   "outputs": [],
   "source": [
    "# ===============================\n",
    "# 6. Plotting Results\n",
    "# ===============================\n",
    "\n",
    "plt.figure(figsize=(8,5))\n",
    "plt.plot(resnet_accs, label=\"ResNet18 Test Acc\")\n",
    "plt.plot(vit_accs, label=\"ViT-tiny Test Acc\")\n",
    "plt.xlabel(\"Epoch\")\n",
    "plt.ylabel(\"Test Accuracy (%)\")\n",
    "plt.legend()\n",
    "plt.grid(True)\n",
    "plt.title(\"Training Progress\")\n",
    "plt.show()\n"
   ]
  },
  {
   "cell_type": "code",
   "execution_count": null,
   "id": "09e18781",
   "metadata": {},
   "outputs": [],
   "source": [
    "# ===============================\n",
    "# 7. Attack Implementations\n",
    "# ===============================\n",
    "\n",
    "def fgsm_attack(model, images, labels, epsilon):\n",
    "    images.requires_grad = True\n",
    "    outputs = model(images)\n",
    "    loss = F.cross_entropy(outputs, labels)\n",
    "    model.zero_grad()\n",
    "    loss.backward()\n",
    "    adv_images = images + epsilon * images.grad.sign()\n",
    "    adv_images = torch.clamp(adv_images, 0, 1).detach()\n",
    "    return adv_images\n",
    "\n",
    "def bim_attack(model, images, labels, epsilon, alpha=0.01, iters=5):\n",
    "    adv_images = images.clone().detach()\n",
    "    adv_images.requires_grad = True\n",
    "\n",
    "    for _ in range(iters):\n",
    "        outputs = model(adv_images)\n",
    "        loss = F.cross_entropy(outputs, labels)\n",
    "        model.zero_grad()\n",
    "        loss.backward()\n",
    "        adv_images = adv_images + alpha * adv_images.grad.sign()\n",
    "        adv_images = torch.clamp(adv_images, 0, 1).detach()\n",
    "        adv_images.requires_grad_(True)\n",
    "    return adv_images\n",
    "\n",
    "def pgd_attack(model, images, labels, epsilon, alpha=0.01, iters=5):\n",
    "    ori_images = images.clone().detach()\n",
    "    adv_images = ori_images.clone().detach()\n",
    "    adv_images.requires_grad = True\n",
    "\n",
    "    for _ in range(iters):\n",
    "        outputs = model(adv_images)\n",
    "        loss = F.cross_entropy(outputs, labels)\n",
    "        model.zero_grad()\n",
    "        loss.backward()\n",
    "        adv_images = adv_images + alpha * adv_images.grad.sign()\n",
    "        perturbation = torch.clamp(adv_images - ori_images, min=-epsilon, max=epsilon)\n",
    "        adv_images = torch.clamp(ori_images + perturbation, 0, 1).detach()\n",
    "        adv_images.requires_grad_(True)\n",
    "    return adv_images\n"
   ]
  },
  {
   "cell_type": "code",
   "execution_count": null,
   "id": "948e88e4",
   "metadata": {},
   "outputs": [],
   "source": [
    "# ===============================\n",
    "# 8. Evaluate Models Under Attack\n",
    "# ===============================\n",
    "\n",
    "def evaluate_attack(model, loader, attack_fn=None, epsilon=0.0):\n",
    "    model.eval()\n",
    "    correct = 0\n",
    "    total = 0\n",
    "    for images, labels in tqdm(loader, leave=False):\n",
    "        images, labels = images.to(device), labels.to(device)\n",
    "        if attack_fn is None:\n",
    "            with torch.no_grad():\n",
    "                outputs = model(images)\n",
    "        else:\n",
    "            adv_images = attack_fn(model, images, labels, epsilon)\n",
    "            outputs = model(adv_images)\n",
    "\n",
    "        preds = outputs.argmax(dim=1)\n",
    "        correct += (preds == labels).sum().item()\n",
    "        total += labels.size(0)\n",
    "\n",
    "    return 100 * correct / total\n"
   ]
  },
  {
   "cell_type": "code",
   "execution_count": 27,
   "id": "771a879d",
   "metadata": {},
   "outputs": [
    {
     "name": "stdout",
     "output_type": "stream",
     "text": [
      "\n",
      "=== Epsilon = 0.00 ===\n"
     ]
    },
    {
     "name": "stderr",
     "output_type": "stream",
     "text": [
      "                                                  \r"
     ]
    },
    {
     "name": "stdout",
     "output_type": "stream",
     "text": [
      "ResNet18 FGSM Accuracy: 73.39%\n"
     ]
    },
    {
     "name": "stderr",
     "output_type": "stream",
     "text": [
      "                                                 \r"
     ]
    },
    {
     "name": "stdout",
     "output_type": "stream",
     "text": [
      "ResNet18 BIM Accuracy: 73.39%\n"
     ]
    },
    {
     "name": "stderr",
     "output_type": "stream",
     "text": [
      "                                                 \r"
     ]
    },
    {
     "name": "stdout",
     "output_type": "stream",
     "text": [
      "ResNet18 PGD Accuracy: 73.39%\n"
     ]
    },
    {
     "name": "stderr",
     "output_type": "stream",
     "text": [
      "                                                 \r"
     ]
    },
    {
     "name": "stdout",
     "output_type": "stream",
     "text": [
      "ViT-tiny FGSM Accuracy: 77.88%\n"
     ]
    },
    {
     "name": "stderr",
     "output_type": "stream",
     "text": [
      "                                                 \r"
     ]
    },
    {
     "name": "stdout",
     "output_type": "stream",
     "text": [
      "ViT-tiny BIM Accuracy: 77.88%\n"
     ]
    },
    {
     "name": "stderr",
     "output_type": "stream",
     "text": [
      "                                                 \r"
     ]
    },
    {
     "name": "stdout",
     "output_type": "stream",
     "text": [
      "ViT-tiny PGD Accuracy: 77.88%\n",
      "\n",
      "=== Epsilon = 0.01 ===\n"
     ]
    },
    {
     "name": "stderr",
     "output_type": "stream",
     "text": [
      "                                                 \r"
     ]
    },
    {
     "name": "stdout",
     "output_type": "stream",
     "text": [
      "ResNet18 FGSM Accuracy: 29.53%\n"
     ]
    },
    {
     "name": "stderr",
     "output_type": "stream",
     "text": [
      "                                                 \r"
     ]
    },
    {
     "name": "stdout",
     "output_type": "stream",
     "text": [
      "ResNet18 BIM Accuracy: 0.03%\n"
     ]
    },
    {
     "name": "stderr",
     "output_type": "stream",
     "text": [
      "                                                 \r"
     ]
    },
    {
     "name": "stdout",
     "output_type": "stream",
     "text": [
      "ResNet18 PGD Accuracy: 22.64%\n"
     ]
    },
    {
     "name": "stderr",
     "output_type": "stream",
     "text": [
      "                                                 \r"
     ]
    },
    {
     "name": "stdout",
     "output_type": "stream",
     "text": [
      "ViT-tiny FGSM Accuracy: 7.62%\n"
     ]
    },
    {
     "name": "stderr",
     "output_type": "stream",
     "text": [
      "                                                 \r"
     ]
    },
    {
     "name": "stdout",
     "output_type": "stream",
     "text": [
      "ViT-tiny BIM Accuracy: 0.00%\n"
     ]
    },
    {
     "name": "stderr",
     "output_type": "stream",
     "text": [
      "                                                 \r"
     ]
    },
    {
     "name": "stdout",
     "output_type": "stream",
     "text": [
      "ViT-tiny PGD Accuracy: 2.03%\n",
      "\n",
      "=== Epsilon = 0.03 ===\n"
     ]
    },
    {
     "name": "stderr",
     "output_type": "stream",
     "text": [
      "                                                 \r"
     ]
    },
    {
     "name": "stdout",
     "output_type": "stream",
     "text": [
      "ResNet18 FGSM Accuracy: 4.36%\n"
     ]
    },
    {
     "name": "stderr",
     "output_type": "stream",
     "text": [
      "                                                 \r"
     ]
    },
    {
     "name": "stdout",
     "output_type": "stream",
     "text": [
      "ResNet18 BIM Accuracy: 0.03%\n"
     ]
    },
    {
     "name": "stderr",
     "output_type": "stream",
     "text": [
      "                                                 \r"
     ]
    },
    {
     "name": "stdout",
     "output_type": "stream",
     "text": [
      "ResNet18 PGD Accuracy: 0.59%\n"
     ]
    },
    {
     "name": "stderr",
     "output_type": "stream",
     "text": [
      "                                                 \r"
     ]
    },
    {
     "name": "stdout",
     "output_type": "stream",
     "text": [
      "ViT-tiny FGSM Accuracy: 0.83%\n"
     ]
    },
    {
     "name": "stderr",
     "output_type": "stream",
     "text": [
      "                                                 \r"
     ]
    },
    {
     "name": "stdout",
     "output_type": "stream",
     "text": [
      "ViT-tiny BIM Accuracy: 0.00%\n"
     ]
    },
    {
     "name": "stderr",
     "output_type": "stream",
     "text": [
      "                                                 \r"
     ]
    },
    {
     "name": "stdout",
     "output_type": "stream",
     "text": [
      "ViT-tiny PGD Accuracy: 0.00%\n",
      "\n",
      "=== Epsilon = 0.05 ===\n"
     ]
    },
    {
     "name": "stderr",
     "output_type": "stream",
     "text": [
      "                                                 \r"
     ]
    },
    {
     "name": "stdout",
     "output_type": "stream",
     "text": [
      "ResNet18 FGSM Accuracy: 1.59%\n"
     ]
    },
    {
     "name": "stderr",
     "output_type": "stream",
     "text": [
      "                                                 \r"
     ]
    },
    {
     "name": "stdout",
     "output_type": "stream",
     "text": [
      "ResNet18 BIM Accuracy: 0.03%\n"
     ]
    },
    {
     "name": "stderr",
     "output_type": "stream",
     "text": [
      "                                                 \r"
     ]
    },
    {
     "name": "stdout",
     "output_type": "stream",
     "text": [
      "ResNet18 PGD Accuracy: 0.03%\n"
     ]
    },
    {
     "name": "stderr",
     "output_type": "stream",
     "text": [
      "                                                 \r"
     ]
    },
    {
     "name": "stdout",
     "output_type": "stream",
     "text": [
      "ViT-tiny FGSM Accuracy: 1.85%\n"
     ]
    },
    {
     "name": "stderr",
     "output_type": "stream",
     "text": [
      "                                                 \r"
     ]
    },
    {
     "name": "stdout",
     "output_type": "stream",
     "text": [
      "ViT-tiny BIM Accuracy: 0.00%\n"
     ]
    },
    {
     "name": "stderr",
     "output_type": "stream",
     "text": [
      "                                                 "
     ]
    },
    {
     "name": "stdout",
     "output_type": "stream",
     "text": [
      "ViT-tiny PGD Accuracy: 0.00%\n"
     ]
    },
    {
     "name": "stderr",
     "output_type": "stream",
     "text": [
      "\r"
     ]
    }
   ],
   "source": [
    "# ===============================\n",
    "# 9. Run All Experiments\n",
    "# ===============================\n",
    "\n",
    "epsilons = [0.0, 0.01, 0.03, 0.05]\n",
    "\n",
    "# Store results\n",
    "resnet_results = {\"FGSM\":[], \"BIM\":[], \"PGD\":[]}\n",
    "vit_results = {\"FGSM\":[], \"BIM\":[], \"PGD\":[]}\n",
    "\n",
    "for eps in epsilons:\n",
    "    print(f\"\\n=== Epsilon = {eps:.2f} ===\")\n",
    "\n",
    "    # ResNet18\n",
    "    acc = evaluate_attack(resnet, testloader_resnet, fgsm_attack if eps>0 else None, eps)\n",
    "    resnet_results[\"FGSM\"].append(acc)\n",
    "    print(f\"ResNet18 FGSM Accuracy: {acc:.2f}%\")\n",
    "\n",
    "    acc = evaluate_attack(resnet, testloader_resnet, bim_attack if eps>0 else None, eps)\n",
    "    resnet_results[\"BIM\"].append(acc)\n",
    "    print(f\"ResNet18 BIM Accuracy: {acc:.2f}%\")\n",
    "\n",
    "    acc = evaluate_attack(resnet, testloader_resnet, pgd_attack if eps>0 else None, eps)\n",
    "    resnet_results[\"PGD\"].append(acc)\n",
    "    print(f\"ResNet18 PGD Accuracy: {acc:.2f}%\")\n",
    "\n",
    "    # ViT-tiny\n",
    "    acc = evaluate_attack(vit, testloader_vit, fgsm_attack if eps>0 else None, eps)\n",
    "    vit_results[\"FGSM\"].append(acc)\n",
    "    print(f\"ViT-tiny FGSM Accuracy: {acc:.2f}%\")\n",
    "\n",
    "    acc = evaluate_attack(vit, testloader_vit, bim_attack if eps>0 else None, eps)\n",
    "    vit_results[\"BIM\"].append(acc)\n",
    "    print(f\"ViT-tiny BIM Accuracy: {acc:.2f}%\")\n",
    "\n",
    "    acc = evaluate_attack(vit, testloader_vit, pgd_attack if eps>0 else None, eps)\n",
    "    vit_results[\"PGD\"].append(acc)\n",
    "    print(f\"ViT-tiny PGD Accuracy: {acc:.2f}%\")\n"
   ]
  },
  {
   "cell_type": "code",
   "execution_count": 28,
   "id": "e8a67f4b",
   "metadata": {},
   "outputs": [
    {
     "data": {
      "image/png": "[encoded data removed]",
      "text/plain": [
       "<Figure size 1000x600 with 1 Axes>"
      ]
     },
     "metadata": {},
     "output_type": "display_data"
    }
   ],
   "source": [
    "# ===============================\n",
    "# 10. Plot Results\n",
    "# ===============================\n",
    "\n",
    "plt.figure(figsize=(10,6))\n",
    "\n",
    "plt.plot(epsilons, resnet_results[\"FGSM\"], label=\"ResNet18 - FGSM\")\n",
    "plt.plot(epsilons, resnet_results[\"BIM\"], label=\"ResNet18 - BIM\")\n",
    "plt.plot(epsilons, resnet_results[\"PGD\"], label=\"ResNet18 - PGD\")\n",
    "\n",
    "plt.plot(epsilons, vit_results[\"FGSM\"], label=\"ViT-tiny - FGSM\")\n",
    "plt.plot(epsilons, vit_results[\"BIM\"], label=\"ViT-tiny - BIM\")\n",
    "plt.plot(epsilons, vit_results[\"PGD\"], label=\"ViT-tiny - PGD\")\n",
    "\n",
    "plt.xlabel(\"Attack Strength (epsilon)\")\n",
    "plt.ylabel(\"Test Accuracy (%)\")\n",
    "plt.title(\"Adversarial Robustness: ResNet18 vs ViT-tiny\")\n",
    "plt.legend()\n",
    "plt.grid(True)\n",
    "plt.show()\n"
   ]
  },
  {
   "cell_type": "code",
   "execution_count": 29,
   "id": "db23ac0d",
   "metadata": {},
   "outputs": [
    {
     "name": "stdout",
     "output_type": "stream",
     "text": [
      "\n",
      "| Epsilon | Model | FGSM Acc | BIM Acc | PGD Acc |\n",
      "|:-------:|:-----:|:--------:|:-------:|:-------:|\n",
      "| 0.00 | ResNet18 | 73.39% | 73.39% | 73.39% |\n",
      "| 0.00 | ViT-tiny | 77.88% | 77.88% | 77.88% |\n",
      "| 0.01 | ResNet18 | 29.53% | 0.03% | 22.64% |\n",
      "| 0.01 | ViT-tiny | 7.62% | 0.00% | 2.03% |\n",
      "| 0.03 | ResNet18 | 4.36% | 0.03% | 0.59% |\n",
      "| 0.03 | ViT-tiny | 0.83% | 0.00% | 0.00% |\n",
      "| 0.05 | ResNet18 | 1.59% | 0.03% | 0.03% |\n",
      "| 0.05 | ViT-tiny | 1.85% | 0.00% | 0.00% |\n"
     ]
    }
   ],
   "source": [
    "# ===============================\n",
    "# 11. Print Table of Results\n",
    "# ===============================\n",
    "\n",
    "print(\"\\n| Epsilon | Model | FGSM Acc | BIM Acc | PGD Acc |\")\n",
    "print(\"|:-------:|:-----:|:--------:|:-------:|:-------:|\")\n",
    "\n",
    "for i, eps in enumerate(epsilons):\n",
    "    print(f\"| {eps:.2f} | ResNet18 | {resnet_results['FGSM'][i]:.2f}% | {resnet_results['BIM'][i]:.2f}% | {resnet_results['PGD'][i]:.2f}% |\")\n",
    "    print(f\"| {eps:.2f} | ViT-tiny | {vit_results['FGSM'][i]:.2f}% | {vit_results['BIM'][i]:.2f}% | {vit_results['PGD'][i]:.2f}% |\")\n"
   ]
  },
  {
   "cell_type": "code",
   "execution_count": null,
   "id": "bee4f407",
   "metadata": {},
   "outputs": [],
   "source": []
  }
 ],
 "metadata": {
  "kernelspec": {
   "display_name": "Python 3",
   "language": "python",
   "name": "python3"
  },
  "language_info": {
   "codemirror_mode": {
    "name": "ipython",
    "version": 3
   },
   "file_extension": ".py",
   "mimetype": "text/x-python",
   "name": "python",
   "nbconvert_exporter": "python",
   "pygments_lexer": "ipython3",
   "version": "3.9.0"
  }
 },
 "nbformat": 4,
 "nbformat_minor": 5
}
